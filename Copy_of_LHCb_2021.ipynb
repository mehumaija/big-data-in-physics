{
  "nbformat": 4,
  "nbformat_minor": 0,
  "metadata": {
    "colab": {
      "name": "Copy of LHCb_2021.ipynb",
      "provenance": [],
      "collapsed_sections": []
    },
    "kernelspec": {
      "name": "python2",
      "display_name": "Python 2"
    },
    "accelerator": "GPU"
  },
  "cells": [
    {
      "cell_type": "markdown",
      "metadata": {
        "id": "1JafiSIrvEKW"
      },
      "source": [
        "Welcome to Week 4!\n",
        "\n",
        "We will be focussing in Particle Physics Analysis and detecting matter/antimatter assymetries in the production of certain types of particles. ![LHCb detector](https://www1b.physik.rwth-aachen.de/~schael/LHCb_files/LHCB%20PREVIEW-white-bg.jpg)\n",
        "\n",
        "The data we are using comes from LHCb - one of the experiments at LHC. It is a highly specialised detector aimed at detecting decays involving the B-quark. Unlike the other major experiments, LHCb detects particles very close to the source and looks almost exclusively in the forward direction - this gives the detector many advantages compared to other experiments at LHC.\n",
        "\n",
        "In order to get started, we need to access the [ROOT framework](https://root.cern.ch/) and download some datafiles into this machine.\n",
        "\n",
        "If you are using Google Colab then you need to ensure that you are using Python 2:\n",
        "\n",
        "Before we start - we have to use Python2 (not Python 3), so we should choose this as an option in \"Runtime\" -> \"Change Runtime Type\" at the top or create a new notebook in Python2 by appending \"&runtime=python2\" to the URL."
      ]
    },
    {
      "cell_type": "code",
      "metadata": {
        "id": "vFclIR72w0mU",
        "colab": {
          "base_uri": "https://localhost:8080/"
        },
        "outputId": "264e2ca0-dc71-4089-e639-7db86d5b59be"
      },
      "source": [
        "#Colab only\n",
        "#we are going to make a directory called APPS\n",
        "!mkdir -p APPS\n",
        "#Now we move to our directory called APPS and we download ROOT from the CERN server, this version is chosen because it runs on this machine - if you want to run this locally check the versions!\n",
        "!cd APPS && wget https://root.cern.ch/download/root_v6.13.08.Linux-ubuntu18-x86_64-gcc7.3.tar.gz \n",
        "#Now we extract our downloaded file:\n",
        "!cd APPS && tar -xf root_v6.13.08.Linux-ubuntu18-x86_64-gcc7.3.tar.gz\n"
      ],
      "execution_count": 2,
      "outputs": [
        {
          "output_type": "stream",
          "text": [
            "--2021-03-01 18:57:00--  https://root.cern.ch/download/root_v6.13.08.Linux-ubuntu18-x86_64-gcc7.3.tar.gz\n",
            "Resolving root.cern.ch (root.cern.ch)... 137.138.18.236, 2001:1458:201:ee::100:6\n",
            "Connecting to root.cern.ch (root.cern.ch)|137.138.18.236|:443... connected.\n",
            "HTTP request sent, awaiting response... 200 OK\n",
            "Length: 137415272 (131M) [application/x-gzip]\n",
            "Saving to: ‘root_v6.13.08.Linux-ubuntu18-x86_64-gcc7.3.tar.gz’\n",
            "\n",
            "root_v6.13.08.Linux 100%[===================>] 131.05M  28.9MB/s    in 5.2s    \n",
            "\n",
            "2021-03-01 18:57:05 (25.3 MB/s) - ‘root_v6.13.08.Linux-ubuntu18-x86_64-gcc7.3.tar.gz’ saved [137415272/137415272]\n",
            "\n"
          ],
          "name": "stdout"
        }
      ]
    },
    {
      "cell_type": "code",
      "metadata": {
        "id": "COPyXIvbxqht",
        "colab": {
          "base_uri": "https://localhost:8080/"
        },
        "outputId": "854c995b-ac1b-4c59-be7a-8484bea794cc"
      },
      "source": [
        "#Colab only:\n",
        "#now we can extract some files from ROOT and ensure that we can access the libraries. We use some python key words to get access to the right files:\n",
        "\n",
        "import sys\n",
        "\n",
        "sys.path.append(\"/content/APPS/root/lib\")\n",
        "\n",
        "import ctypes\n",
        "\n",
        "\n",
        "ctypes.cdll.LoadLibrary('/content/APPS/root/lib/libCore.so')\n",
        "\n",
        "ctypes.cdll.LoadLibrary('/content/APPS/root/lib/libThread.so')\n",
        "\n",
        "ctypes.cdll.LoadLibrary('/content/APPS/root/lib/libImt.so')\n",
        "\n",
        "ctypes.cdll.LoadLibrary('/content/APPS/root/lib/libRIO.so')\n",
        "\n",
        "ctypes.cdll.LoadLibrary('/content/APPS/root/lib/libNet.so')\n",
        "\n",
        "ctypes.cdll.LoadLibrary('/content/APPS/root/lib/libTree.so')\n",
        "\n",
        "ctypes.cdll.LoadLibrary('/content/APPS/root/lib/libMathCore.so')\n",
        "\n",
        "ctypes.cdll.LoadLibrary('/content/APPS/root/lib/libMathMore.so')\n",
        "\n",
        "ctypes.cdll.LoadLibrary('/content/APPS/root/lib/libMatrix.so')\n",
        "\n",
        "ctypes.cdll.LoadLibrary('/content/APPS/root/lib/libHist.so')\n",
        "\n",
        "ctypes.cdll.LoadLibrary('/content/APPS/root/lib/libGraf.so')\n",
        "\n",
        "ctypes.cdll.LoadLibrary('/content/APPS/root/lib/libPyROOT.so')\n",
        "\n",
        "ctypes.cdll.LoadLibrary('/content/APPS/root/lib/libGpad.so')\n",
        "\n",
        "ctypes.cdll.LoadLibrary('/content/APPS/root/lib/libGraf3d.so')\n",
        "\n",
        "ctypes.cdll.LoadLibrary('/content/APPS/root/lib/libMultiProc.so')\n",
        "\n",
        "ctypes.cdll.LoadLibrary('/content/APPS/root/lib/libMinuit.so')\n",
        "\n",
        "ctypes.cdll.LoadLibrary('/content/APPS/root/lib/libFoam.so')"
      ],
      "execution_count": 3,
      "outputs": [
        {
          "output_type": "execute_result",
          "data": {
            "text/plain": [
              "<CDLL '/content/APPS/root/lib/libFoam.so', handle 55d9f7b7a800 at 7f508c9d6dd0>"
            ]
          },
          "metadata": {
            "tags": []
          },
          "execution_count": 3
        }
      ]
    },
    {
      "cell_type": "code",
      "metadata": {
        "id": "QTVz7NQMyDCb",
        "colab": {
          "base_uri": "https://localhost:8080/",
          "height": 606
        },
        "outputId": "934c8255-fc6c-4241-f2c0-2b8f0fb872d2"
      },
      "source": [
        "#Now we can check if we have everything working as we expect: \n",
        "#Import brings the ROOT framework into our python environment.\n",
        "import ROOT\n",
        "#We define a 1 dimensional histogram, with 100 bins which ranges from -4 to +4\n",
        "h = ROOT.TH1F(\"gauss\",\"Example histogram\",100,-4,4)\n",
        "h1 = ROOT.TH1F(\"gauss\",\"Example histogram\",100,-4,4)\n",
        "#Fill the histogram with gaussian (random) distribution\n",
        "h.FillRandom(\"gaus\")\n",
        "h1.FillRandom(\"gaus\")\n",
        "#make a Canvas (i.e. a drawing)\n",
        "c = ROOT.TCanvas(\"myCanvasName\",\"The Canvas Title\",800,600)\n",
        "#Draw my histogram\n",
        "h1.SetLineColor(13)\n",
        "h.Draw()\n",
        "h1.Draw(\"same\")\n",
        "#Show me the canvas\n",
        "c.Draw()"
      ],
      "execution_count": 4,
      "outputs": [
        {
          "output_type": "stream",
          "text": [
            "Welcome to JupyROOT 6.13/08\n"
          ],
          "name": "stdout"
        },
        {
          "output_type": "display_data",
          "data": {
            "image/png": "[encoded data removed]",
            "text/plain": [
              "<IPython.core.display.Image object>"
            ]
          },
          "metadata": {
            "tags": []
          }
        }
      ]
    },
    {
      "cell_type": "code",
      "metadata": {
        "colab": {
          "base_uri": "https://localhost:8080/"
        },
        "id": "lPq41kLGIhYT",
        "outputId": "de9cfadb-114e-4738-fa94-6bf779156d27"
      },
      "source": [
        "from google.colab import drive\n",
        "drive.mount('/content/drive')"
      ],
      "execution_count": 5,
      "outputs": [
        {
          "output_type": "stream",
          "text": [
            "Mounted at /content/drive\n"
          ],
          "name": "stdout"
        }
      ]
    },
    {
      "cell_type": "markdown",
      "metadata": {
        "id": "VXW1M6XB0tXP"
      },
      "source": [
        "All being well - this should give no errors and we should have some kind of Gaussian distribution above.\n",
        "\n",
        "The next step is to get our data file - you can find it on Canvas here: https://maastrichtuniversity.instructure.com/courses/5826/files/553829?module_item_id=115201\n",
        "\n",
        "Then upload it either directly or to your Google Drive and then mount this to your Colab environment"
      ]
    },
    {
      "cell_type": "code",
      "metadata": {
        "id": "Co476pbmBvBB",
        "colab": {
          "base_uri": "https://localhost:8080/",
          "height": 640
        },
        "outputId": "2935ec25-d93b-4f77-849e-bbe56aceb71a"
      },
      "source": [
        "#Since we need to use ROOT, we must first import this into Python:\n",
        "import ROOT\n",
        "#Then we open the ROOT file using the TFile command. - note you need to make this file path correct for your own setup!\n",
        "f = ROOT.TFile.Open(\"/content/drive/MyDrive/B2HHH_MagnetUp.root\", \"READONLY\")\n",
        "#From our file, we have to extract the DecayTree \n",
        "tree=f.Get(\"data\")\n",
        "#Now we can grab some variables as a test:\n",
        "ymomentum = ROOT.RooRealVar(\"H1_PY\",\"H1 Y Momentum\",-3000,3000,\"MeV/c\")\n",
        "xmomentum = ROOT.RooRealVar(\"H1_PX\",\"H1 X Momentum\",-3000,3000,\"MeV/c\")\n",
        "zmomentum = ROOT.RooRealVar(\"H1_PZ\",\"H1 Z Momentum\",-3000,3000,\"MeV/c\")\n",
        "# We then create a dataset for us to play with\n",
        "data = ROOT.RooDataSet(\"data\",\"data set\", tree, ROOT.RooArgSet(xmomentum,ymomentum,zmomentum), \"1==1\")\n",
        "# Now we create a canvas, plot our data onto the canvas and draw it:\n",
        "c = ROOT.TCanvas(\"c\",\"c\")\n",
        "frame = xmomentum.frame()\n",
        "data.plotOn(frame)\n",
        "frame.Draw()\n",
        "c.Draw()"
      ],
      "execution_count": 6,
      "outputs": [
        {
          "output_type": "stream",
          "text": [
            "\n",
            "\u001b[1mRooFit v3.60 -- Developed by Wouter Verkerke and David Kirkby\u001b[0m \n",
            "                Copyright (C) 2000-2013 NIKHEF, University of California & Stanford University\n",
            "                All rights reserved, please read http://roofit.sourceforge.net/license.txt\n",
            "\n",
            "[#1] INFO:Eval -- RooAbsReal::attachToTree(H1_PX) TTree Float_t branch H1_PX will be converted to double precision\n",
            "[#1] INFO:Eval -- RooAbsReal::attachToTree(H1_PY) TTree Float_t branch H1_PY will be converted to double precision\n",
            "[#1] INFO:Eval -- RooAbsReal::attachToTree(H1_PZ) TTree Float_t branch H1_PZ will be converted to double precision\n",
            "[#1] INFO:Eval -- RooTreeDataStore::loadValues(data) Ignored 3305139 out of range events\n"
          ],
          "name": "stdout"
        },
        {
          "output_type": "display_data",
          "data": {
            "image/png": "[encoded data removed]",
            "text/plain": [
              "<IPython.core.display.Image object>"
            ]
          },
          "metadata": {
            "tags": []
          }
        }
      ]
    },
    {
      "cell_type": "markdown",
      "metadata": {
        "id": "4e4n4iS3IJZi"
      },
      "source": [
        "#Why are we here?\n",
        "\n",
        "This week is about finding out something about one of the fundemental questions in physics. Why do we have \"stuff\".\n",
        "\n",
        "According to many of our models, and according to many measurements in particle physics, matter and anti-matter appear to be produced in equal quantities.\n",
        "\n",
        "However, when one looks at the Universe in general, we have more matter than anti-matter left - so there need to be some processes where anti-matter and matter are not produced equally. You can find out more about the Matter/Anti-Matter Asymmetry [here](http://press.web.cern.ch/backgrounders/matterantimatter-asymmetry)\n",
        "\n",
        "One place we look for this asymetry is in [charge-partity (CP) violation](https://www.symmetrymagazine.org/article/october-2005/explain-it-in-60-seconds) in particle physics processes. This essentially says that the processes that happen in the anti-particle version of a decay do not **exactly** match to the processes that happen in the particle version of the decay.\n",
        "\n",
        "\n",
        "\n",
        "---\n",
        "\n",
        "\n",
        "\n",
        "At LHCb, we produce both particle of the  B<sup>+</sup> meson and it's antiparticle the B<sup>-</sup> meson.\n",
        "\n",
        "We cannot detect these mesons directly. They decay into other things before we have a chance to measure them properly. So we collect data on the decay products, often called daughter particles. There are 524 [documented](http://pdg.lbl.gov/2014/listings/rpp2014-list-B-plus-minus.pdf) ways that the B<sup>+/-</sup> decays into various combinations. In order to simplify the process, we choose decay combinations that are convenient or have particular properties.\n",
        "\n",
        "In this analysis, we will take the process:-\n",
        "\n",
        "B<sup>+</sup>->K<sup>+</sup> + K<sup>+</sup>  + K<sup>-</sup>\n",
        "\n",
        "or\n",
        "\n",
        "B<sup>-</sup>->K<sup>-</sup> + K<sup>-</sup>  + K<sup>+</sup>\n",
        "\n",
        "\n",
        "To do so, we are given the following data for each event in our system:-\n",
        "\n",
        "![alt text](https://raw.githubusercontent.com/lhcb/opendata-project/80d64a3796e593fc8f9b257e85f32ae2e54f131f/Images/Variables.png)\n",
        "\n",
        "Here, H1 is the detected daughter particle (so a Kaon or a Pion), **not** the B-meson - the mother particle. Normally we would have to do some reconstruction from the decay products (the Daughters) to the Mother to be able to make some conclusions.\n",
        "\n",
        "Let's get started with working with this data:"
      ]
    },
    {
      "cell_type": "markdown",
      "metadata": {
        "id": "LOhfj7kfP-ao"
      },
      "source": [
        "For our analysis, the momentum of each of the daughter particles is split into the three cartesian components. We have combined these into a variable called H1_Ptot"
      ]
    },
    {
      "cell_type": "code",
      "metadata": {
        "id": "Y4keyoyTPjsK",
        "colab": {
          "base_uri": "https://localhost:8080/",
          "height": 489
        },
        "outputId": "acc93bc9-99aa-4b4f-8159-82bdb17424fa"
      },
      "source": [
        "#Here make a plot of the Total momentum of each of the three daughters\r\n",
        "\r\n",
        "canvas_tm = ROOT.TCanvas(\"canvas_tm\")\r\n",
        "\r\n",
        "tree.Draw(\"H1_Ptot>>H1_ptot(1000, 0, 300000)\")\r\n",
        "H1_ptot = ROOT.gDirectory.Get(\"H1_ptot\")\r\n",
        "\r\n",
        "tree.Draw(\"H2_Ptot>>H2_ptot(1000, 0, 300000)\")\r\n",
        "H2_ptot = ROOT.gDirectory.Get(\"H2_ptot\")\r\n",
        "\r\n",
        "tree.Draw(\"H3_Ptot>>H3_ptot(1000, 0, 300000)\")\r\n",
        "H3_ptot = ROOT.gDirectory.Get(\"H3_ptot\")\r\n",
        "\r\n",
        "H1_ptot.SetLineColor(2)\r\n",
        "H2_ptot.SetLineColor(3)\r\n",
        "H3_ptot.SetLineColor(6)\r\n",
        "\r\n",
        "H1_ptot.SetTitle(\"Total Momentum of the Three Daughters\")\r\n",
        "H1_ptot.SetXTitle(\"Total momentum\")\r\n",
        "H1_ptot.SetYTitle(\"Events\")\r\n",
        "\r\n",
        "H1_ptot.Draw()\r\n",
        "H2_ptot.Draw(\"same\")\r\n",
        "H3_ptot.Draw(\"same\")\r\n",
        "\r\n",
        "canvas_tm.Draw()\r\n"
      ],
      "execution_count": 7,
      "outputs": [
        {
          "output_type": "display_data",
          "data": {
            "image/png": "[encoded data removed]",
            "text/plain": [
              "<IPython.core.display.Image object>"
            ]
          },
          "metadata": {
            "tags": []
          }
        }
      ]
    },
    {
      "cell_type": "markdown",
      "metadata": {
        "id": "C1lXLMCoR1Gi"
      },
      "source": [
        "Now plot the total momentum for the mother (M_Ptot)"
      ]
    },
    {
      "cell_type": "code",
      "metadata": {
        "id": "6kdbiNpPR1QG",
        "colab": {
          "base_uri": "https://localhost:8080/",
          "height": 489
        },
        "outputId": "727a48b7-6e49-4dc8-b31f-8d84a6cb1efc"
      },
      "source": [
        "#use the histogram plotting tools, plot the momentum of the mother\r\n",
        "\r\n",
        "canvas = ROOT.TCanvas(\"canvas\")\r\n",
        "\r\n",
        "tree.Draw(\"M_Ptot>>Histogram(100, 0, 300000)\")\r\n",
        "Histogram = ROOT.gDirectory.Get(\"Histogram\")\r\n",
        "\r\n",
        "Histogram.SetTitle(\"Momentum of the Mother\")\r\n",
        "Histogram.SetXTitle(\"Momentum\")\r\n",
        "Histogram.SetYTitle(\"Events\")\r\n",
        "Histogram.Draw()\r\n",
        "\r\n",
        "canvas.Draw()"
      ],
      "execution_count": 8,
      "outputs": [
        {
          "output_type": "display_data",
          "data": {
            "image/png": "[encoded data removed]",
            "text/plain": [
              "<IPython.core.display.Image object>"
            ]
          },
          "metadata": {
            "tags": []
          }
        }
      ]
    },
    {
      "cell_type": "markdown",
      "metadata": {
        "id": "Gj5qv5kqSMIF"
      },
      "source": [
        "Let's take a look at the whole data file that is available to us by looking at one specific entry - number 45"
      ]
    },
    {
      "cell_type": "code",
      "metadata": {
        "id": "QMkih_6SSG8I",
        "colab": {
          "base_uri": "https://localhost:8080/"
        },
        "outputId": "7d095cc0-ef79-418c-f145-55ad23ce06f4"
      },
      "source": [
        "tree.Show(45)"
      ],
      "execution_count": 9,
      "outputs": [
        {
          "output_type": "stream",
          "text": [
            "======> EVENT:45\n",
            " B_FlightDistance = 4.71407\n",
            " B_VertexChi2    = 11.5278\n",
            " H1_PX           = 133.376\n",
            " H1_PY           = -1293.52\n",
            " H1_PZ           = 33534.2\n",
            " H1_ProbK        = 0.00735235\n",
            " H1_ProbPi       = 0.204907\n",
            " H1_Charge       = 1\n",
            " H1_IPChi2       = 22.9885\n",
            " H1_isMuon       = 0\n",
            " H2_PX           = 518.943\n",
            " H2_PY           = -1966.2\n",
            " H2_PZ           = 52184.7\n",
            " H2_ProbK        = 0.00482044\n",
            " H2_ProbPi       = 0.266655\n",
            " H2_Charge       = -1\n",
            " H2_IPChi2       = 20.5652\n",
            " H2_isMuon       = 0\n",
            " H3_PX           = 1383.62\n",
            " H3_PY           = -2008.35\n",
            " H3_PZ           = 12154\n",
            " H3_ProbK        = 0.0800247\n",
            " H3_ProbPi       = 0.403711\n",
            " H3_Charge       = -1\n",
            " H3_IPChi2       = 1584.95\n",
            " H3_isMuon       = 0\n",
            " H1_Ptot         = 33559.4\n",
            " H1_type         = 1\n",
            " H1_E            = 33559.7\n",
            " H2_Ptot         = 52224.4\n",
            " H2_type         = 1\n",
            " H2_E            = 52224.5\n",
            " H3_Ptot         = 12396.2\n",
            " H3_type         = 1\n",
            " H3_E            = 12397\n",
            " M_Ptot          = 98035.7\n",
            " M_E             = 98181.3\n",
            " M_m0            = 5343.69\n"
          ],
          "name": "stdout"
        }
      ]
    },
    {
      "cell_type": "markdown",
      "metadata": {
        "id": "w3sqwtNTUEJd"
      },
      "source": [
        "We have now completed the initial steps and begun to work through what we need to with the data. This is a perfect moment to take a coffee!"
      ]
    },
    {
      "cell_type": "markdown",
      "metadata": {
        "id": "6RhWWqt3a8_e"
      },
      "source": [
        "Having discovered all of the relevant information about our daughter particles, we need to combine the measurements about them into a single mother - which will be our B<sup>+</sup> or our B<sup>-</sup>\r\n",
        "\r\n",
        "Having found our momentum and energy, we can use these quantities to find our experimental mass (not the theoretical mass as we have used for the reconstruction).\r\n",
        "\r\n",
        "When we calculate this, we will get a distribution of masses. This is due to errors in the measurements made either by the detector, or in the experiment itself. We hope to have a reasonably narrow peak to work with, but, sometimes this is not possible.\r\n",
        "\r\n",
        "Additionally there will be other particles in the detector - which means our daughters might have come from two or even three different processes. Events which don't come from the same process will give a higher or lower mass than we are looking for. This is typically called the *background* while events which come from our event of interest are called the *signal*"
      ]
    },
    {
      "cell_type": "code",
      "metadata": {
        "id": "onr7-8CMbbFf",
        "colab": {
          "base_uri": "https://localhost:8080/",
          "height": 506
        },
        "outputId": "9f3ce8ed-5299-4bf9-a565-4e70dbefe3e8"
      },
      "source": [
        "#Now plot a histogram of the range of masses of the B meson.\r\n",
        "\r\n",
        "import scipy.constants as constant\r\n",
        "import math\r\n",
        "\r\n",
        "#m = math.sqrt(((M_E)^2-(M_Ptot)^2*(constant.c)^2)/(constant.c)^4)\r\n",
        "\r\n",
        "canvas = ROOT.TCanvas(\"canvas\")\r\n",
        "tree.Draw(\"M_m0 >> H (250, 1500, 6000)\") # with the tree.Draw() can draw anything from the tree. Send this information to a graph called H\r\n",
        "# values inside the (n_bins, lower, upper). Histogram is default in ROOT.\r\n",
        "H = ROOT.gDirectory.Get(\"H\")\r\n",
        "\r\n",
        "H.SetTitle(\"Range of Masses of the B meson\")\r\n",
        "H.SetXTitle(\"Mass (MeV/c^2)\")\r\n",
        "H.SetYTitle(\"Number of events\")\r\n",
        "\r\n",
        "canvas.Draw()\r\n",
        "\r\n",
        "#Does this match what we would expect from theory?"
      ],
      "execution_count": 10,
      "outputs": [
        {
          "output_type": "stream",
          "text": [
            "Warning in <TCanvas::Constructor>: Deleting canvas with same name: canvas\n"
          ],
          "name": "stderr"
        },
        {
          "output_type": "display_data",
          "data": {
            "image/png": "[encoded data removed]",
            "text/plain": [
              "<IPython.core.display.Image object>"
            ]
          },
          "metadata": {
            "tags": []
          }
        }
      ]
    },
    {
      "cell_type": "markdown",
      "metadata": {
        "id": "Ut_Q5nMJ0pj6"
      },
      "source": [
        "Does this match what we would expect from theory?\r\n",
        "- The theoretical mass for B+ is 5279 MeV/c^2. In the plot, there is a peak between 5000 and 5500. This seems to match our expectations of the mass.\r\n"
      ]
    },
    {
      "cell_type": "markdown",
      "metadata": {
        "id": "MWGFKFnXb0RP"
      },
      "source": [
        "We know that some of our particles are the B+ and some are the B- particle. There will also be some particles in our system that are not coming from a genuine B+/- or are a B+/- but are not constructed from Kaons.\r\n",
        "\r\n",
        "We have some tools available to help:-\r\n",
        "\r\n",
        "  *  During detection, software attributes the probability of a particle being a Kaon or a Pion (in the H1_ProbK or H1_ProbPi variable)\r\n",
        "  * The detector also knows if the particle was a Muon - since it has detectors specifically for these. So it can attribute a 0 or a 1 to this probability\r\n",
        "  * The reconstructed vertex has a some kind of quality associated with it (we call this the Vertex χ2 (this is the variable B_VertexChi2). This is the statistical measure that determines how well we found a single point to be the source of all three particles.\r\n",
        "\r\n"
      ]
    },
    {
      "cell_type": "markdown",
      "metadata": {
        "id": "fEpnSmH4b9HZ"
      },
      "source": [
        "In order to get a better result, we should select our data to have the properties we desire and make some rules (often called a selection) to cut away data we don't want to include for various reasons. e.g. we know we don't have any muons in our decay - so any time H1/H2/H3 are a muon they should be excluded. The other variables are not so clear - so we can plot them to make a decision."
      ]
    },
    {
      "cell_type": "code",
      "metadata": {
        "id": "k0vikJp0cAvv",
        "colab": {
          "base_uri": "https://localhost:8080/",
          "height": 506
        },
        "outputId": "953712cc-46db-48f4-e725-94b7fa17d138"
      },
      "source": [
        "#Make plots of H1/H2/H3 _ProbK on one plot\r\n",
        "\r\n",
        "canvas = ROOT.TCanvas(\"canvas\")\r\n",
        "\r\n",
        "tree.Draw(\"H1_ProbK>>H1_k(250, 0, 1)\")\r\n",
        "H1_k = ROOT.gDirectory.Get(\"H1_k\")\r\n",
        "\r\n",
        "tree.Draw(\"H2_ProbK>>H2_k(250, 0, 1)\")\r\n",
        "H2_k = ROOT.gDirectory.Get(\"H2_k\")\r\n",
        "\r\n",
        "tree.Draw(\"H3_ProbK>>H3_k(250, 0, 1)\")\r\n",
        "H3_k = ROOT.gDirectory.Get(\"H3_k\")\r\n",
        "\r\n",
        "H1_k.SetLineColor(2)\r\n",
        "H2_k.SetLineColor(3)\r\n",
        "H3_k.SetLineColor(6)\r\n",
        "\r\n",
        "H1_k.SetTitle(\"Probability of Kaon\")\r\n",
        "H1_k.SetXTitle(\"Probability\")\r\n",
        "H1_k.SetYTitle(\"Number of counts per mass, MeV/c^2\")\r\n",
        "\r\n",
        "H1_k.Draw()\r\n",
        "H2_k.Draw(\"same\")\r\n",
        "H3_k.Draw(\"same\")\r\n",
        "\r\n",
        "canvas.Draw()\r\n",
        "\r\n"
      ],
      "execution_count": 11,
      "outputs": [
        {
          "output_type": "stream",
          "text": [
            "Warning in <TCanvas::Constructor>: Deleting canvas with same name: canvas\n"
          ],
          "name": "stderr"
        },
        {
          "output_type": "display_data",
          "data": {
            "image/png": "[encoded data removed]",
            "text/plain": [
              "<IPython.core.display.Image object>"
            ]
          },
          "metadata": {
            "tags": []
          }
        }
      ]
    },
    {
      "cell_type": "code",
      "metadata": {
        "colab": {
          "base_uri": "https://localhost:8080/",
          "height": 489
        },
        "id": "iR3ZSCNDFM2F",
        "outputId": "b23dcbb9-6e66-49fa-bfd9-6bac54f4cfe9"
      },
      "source": [
        "#Make plots of H1/H2/H3 _ProbPi on one plot\r\n",
        "\r\n",
        "canvas_pi = ROOT.TCanvas(\"canvas_pi\")\r\n",
        "\r\n",
        "tree.Draw(\"H1_ProbPi>>H1_pi(250, 0, 1)\")\r\n",
        "H1_pi = ROOT.gDirectory.Get(\"H1_pi\")\r\n",
        "\r\n",
        "tree.Draw(\"H2_ProbPi>>H2_pi(250, 0, 1)\")\r\n",
        "H2_pi = ROOT.gDirectory.Get(\"H2_pi\")\r\n",
        "\r\n",
        "tree.Draw(\"H3_ProbPi>>H3_pi(250, 0, 1)\")\r\n",
        "H3_pi = ROOT.gDirectory.Get(\"H3_pi\")\r\n",
        "\r\n",
        "H1_pi.SetLineColor(2)\r\n",
        "H2_pi.SetLineColor(3)\r\n",
        "H3_pi.SetLineColor(6)\r\n",
        "\r\n",
        "H1_pi.SetTitle(\"Probability of Pion\")\r\n",
        "H1_pi.SetXTitle(\"Probability\")\r\n",
        "H1_pi.SetYTitle(\"Number of counts per mass, MeV/c^2\")\r\n",
        "\r\n",
        "H1_pi.Draw()\r\n",
        "H2_pi.Draw(\"same\")\r\n",
        "H3_pi.Draw(\"same\")\r\n",
        "\r\n",
        "canvas_pi.Draw()\r\n"
      ],
      "execution_count": 12,
      "outputs": [
        {
          "output_type": "display_data",
          "data": {
            "image/png": "[encoded data removed]",
            "text/plain": [
              "<IPython.core.display.Image object>"
            ]
          },
          "metadata": {
            "tags": []
          }
        }
      ]
    },
    {
      "cell_type": "code",
      "metadata": {
        "colab": {
          "base_uri": "https://localhost:8080/",
          "height": 489
        },
        "id": "sVUI0P8eOsRf",
        "outputId": "ea4b2514-f465-44cf-a2a0-b49ab7d297c8"
      },
      "source": [
        "#For all our particles, make a plot of the B_VertexChi2\r\n",
        "\r\n",
        "canvas_vertex = ROOT.TCanvas(\"canvas_vertex\")\r\n",
        "\r\n",
        "tree.Draw(\"B_VertexChi2>>VertexPlot(250, 0, 12)\")\r\n",
        "VertexPlot = ROOT.gDirectory.Get(\"VertexPlot\")\r\n",
        "\r\n",
        "VertexPlot.SetTitle(\"Vertex chi^2\")\r\n",
        "\r\n",
        "VertexPlot.Draw()\r\n",
        "\r\n",
        "canvas_vertex.Draw()\r\n",
        "\r\n",
        "\r\n",
        "# for adding legend\r\n",
        "\r\n",
        "#leg = ROOT.TLegend(0.11 + 0.59, 0.77, 0.3 + 0.59, 0.89)\r\n",
        "#leg.SetHeader(\"Legend\")\r\n",
        "#leg.AddEntry(h1, \"H1_Ptot\", \"l\")\r\n",
        "#leg.Draw(\"same\")\r\n",
        "\r\n",
        "# chi squaerd means: probability of that the three particles come from the same place,\r\n",
        "# 12 is cutoff. Any data that is more than 12 because the data quality would be too bad\r\n",
        "#"
      ],
      "execution_count": 13,
      "outputs": [
        {
          "output_type": "display_data",
          "data": {
            "image/png": "[encoded data removed]",
            "text/plain": [
              "<IPython.core.display.Image object>"
            ]
          },
          "metadata": {
            "tags": []
          }
        }
      ]
    },
    {
      "cell_type": "markdown",
      "metadata": {
        "id": "DWmxBkZ0cDx1"
      },
      "source": [
        "Using these plots, we can now make a preselection string. This is a text string that looks like "
      ]
    },
    {
      "cell_type": "code",
      "metadata": {
        "id": "U1IGKyZXcGJP"
      },
      "source": [
        "#This example is for each daughter particle to have a Probability of being a Pion being more than 90% and H1 to not be a muon\r\n",
        "#This is not a good choice of selection - you should make your own :)\r\n",
        "#selection=(\"H1_ProbPi<0.1&H2_ProbPi<0.1&H3_ProbPi<0.1&!H1_isMuon<0.1&H2_isMuon<0.1&H3_isMuon<0.1\")"
      ],
      "execution_count": 14,
      "outputs": []
    },
    {
      "cell_type": "markdown",
      "metadata": {
        "id": "TJPK6-bUWNJc"
      },
      "source": [
        "We take probability of pion under 0.1 for every signal."
      ]
    },
    {
      "cell_type": "code",
      "metadata": {
        "id": "MxD7JMeicMu0",
        "colab": {
          "base_uri": "https://localhost:8080/"
        },
        "outputId": "4d75ab9d-4868-44c7-f8e2-3cde1efa8545"
      },
      "source": [
        "#To apply the selection - we can use the copytree command:\r\n",
        "selection=(\"H1_ProbPi<0.1&H2_ProbPi<0.1&H3_ProbPi<0.1&H1_isMuon==0&H2_isMuon==0&H3_isMuon==0&H1_ProbK>0.3&H2_ProbK>0.3&H3_ProbK>0.3\")\r\n",
        "CutTree=tree.CopyTree(selection)\r\n",
        "CutTree.Show()\r\n",
        "\r\n",
        "#So now we take our data in tree and apply selection to it (so only events which comply with those rules are kept) and put the new data in CutTree"
      ],
      "execution_count": 15,
      "outputs": [
        {
          "output_type": "stream",
          "text": [
            "======> EVENT:-1\n",
            " B_FlightDistance = 22.4692\n",
            " B_VertexChi2    = 1.9224\n",
            " H1_PX           = -632.231\n",
            " H1_PY           = -25.2678\n",
            " H1_PZ           = 4828.79\n",
            " H1_ProbK        = 0.00679082\n",
            " H1_ProbPi       = 0.868581\n",
            " H1_Charge       = -1\n",
            " H1_IPChi2       = 2827.76\n",
            " H1_isMuon       = 0\n",
            " H2_PX           = -2372.79\n",
            " H2_PY           = -327.853\n",
            " H2_PZ           = 14037.1\n",
            " H2_ProbK        = 0.0221071\n",
            " H2_ProbPi       = 0.713949\n",
            " H2_Charge       = 1\n",
            " H2_IPChi2       = 24397.4\n",
            " H2_isMuon       = 0\n",
            " H3_PX           = -3283.51\n",
            " H3_PY           = 4887.79\n",
            " H3_PZ           = 54015.4\n",
            " H3_ProbK        = 0.0291707\n",
            " H3_ProbPi       = 0.881665\n",
            " H3_Charge       = 1\n",
            " H3_IPChi2       = 4466.18\n",
            " H3_isMuon       = 0\n",
            " H1_Ptot         = 4870.07\n",
            " H1_type         = 0\n",
            " H1_E            = 4895.03\n",
            " H2_Ptot         = 14240\n",
            " H2_type         = 0\n",
            " H2_E            = 14248.5\n",
            " H3_Ptot         = 54335.4\n",
            " H3_type         = 0\n",
            " H3_E            = 54337.6\n",
            " M_Ptot          = 73292.5\n",
            " M_E             = 73481.2\n",
            " M_m0            = 5263.05\n"
          ],
          "name": "stdout"
        }
      ]
    },
    {
      "cell_type": "code",
      "metadata": {
        "id": "hmmsoUwEcOir",
        "colab": {
          "base_uri": "https://localhost:8080/",
          "height": 961
        },
        "outputId": "1e5db041-6dc1-4b38-82e7-f39e2f96fbe7"
      },
      "source": [
        "#Now as a good check, we should see the effect of applying our cuts.\r\n",
        "#On one histogram, plot the B meson mass, from both the tree (pre-cuts) and the CutTree (post-cuts)\r\n",
        "#What do you notice about your histogram now?\r\n",
        "\r\n",
        "canvas_cut = ROOT.TCanvas(\"canvas_cut\")\r\n",
        "\r\n",
        "tree.Draw(\"M_m0 >> TreeMass (1000, 1500, 8000)\")\r\n",
        "TreeMass = ROOT.gDirectory.Get(\"TreeMass\")\r\n",
        "\r\n",
        "CutTree.Draw(\"M_m0 >> CutTreeMass (1000, 1500, 8000)\")\r\n",
        "CutTreeMass = ROOT.gDirectory.Get(\"CutTreeMass\")\r\n",
        "\r\n",
        "TreeMass.SetLineColor(3)\r\n",
        "CutTreeMass.SetLineColor(6)\r\n",
        "\r\n",
        "TreeMass.SetTitle(\"Range of Masses of the B meson pre-cut and post-cut\")\r\n",
        "TreeMass.SetXTitle(\"Mass (MeV/c^2)\")\r\n",
        "TreeMass.SetYTitle(\"Number of events\")\r\n",
        "\r\n",
        "TreeMass.Draw()\r\n",
        "CutTreeMass.Draw(\"same\")\r\n",
        "\r\n",
        "canvas_cut.Draw()\r\n",
        "\r\n",
        "\r\n",
        "canvas_cutOnly = ROOT.TCanvas(\"canvas_cutOnly\")\r\n",
        "\r\n",
        "CutTree.Draw(\"M_m0 >> CutTreeMass1 (1000, 4000, 7000)\")\r\n",
        "CutTreeMass1 = ROOT.gDirectory.Get(\"CutTreeMass1\")\r\n",
        "\r\n",
        "CutTreeMass1.SetTitle(\"Range of Masses of the B meson pre-cut only\")\r\n",
        "CutTreeMass1.SetXTitle(\"Mass (MeV/c^2)\")\r\n",
        "CutTreeMass1.SetYTitle(\"Number of events\")\r\n",
        "\r\n",
        "\r\n",
        "canvas_cutOnly.Draw()"
      ],
      "execution_count": 16,
      "outputs": [
        {
          "output_type": "display_data",
          "data": {
            "image/png": "[encoded data removed]",
            "text/plain": [
              "<IPython.core.display.Image object>"
            ]
          },
          "metadata": {
            "tags": []
          }
        },
        {
          "output_type": "display_data",
          "data": {
            "image/png": "[encoded data removed]",
            "text/plain": [
              "<IPython.core.display.Image object>"
            ]
          },
          "metadata": {
            "tags": []
          }
        }
      ]
    },
    {
      "cell_type": "markdown",
      "metadata": {
        "id": "KlyfFvhkgWjO"
      },
      "source": [
        "The post-cut graph peak appears smaller than the pre-cut. This means that most of the recorded particles were not kaons but pions."
      ]
    },
    {
      "cell_type": "markdown",
      "metadata": {
        "id": "N1tResqvcMgQ"
      },
      "source": [
        "#How do we count the number of events?\r\n",
        "\r\n",
        "We now have a histogram of events that we have reconstructed as a B meson. But some of these events are caused by a co-incidence of events which would still occur if there were no B mesons actually produced. We call this the background. Background and signal are indistinguishable now as the detector cannot tell the difference and our cuts were unable to remove the events for physics reasons. We can do some statistical analysis, if we know the approximate shapes of our signal and our background. Just like a least-squares fitting we can run a fit routine to minimise the error between the fitted curve and our data. As an example, if we know our data has an exponential background and a gaussian signal:\r\n",
        "\r\n",
        "![Gaussian+Exp Background](https://twiki.cern.ch/twiki/pub/RooStats/RooStatsTutorialsJune2013/GausExpModelFit.png)\r\n",
        "\r\n",
        "Here the red line represents our signal, the blue dotted line is our background and the solid blue line is our combined curve. The graph also shows the number of signal events and the number of background events. The signal now is a tiny fraction of the total data shown in the plot.\r\n",
        "\r\n",
        "In order to do this, we need to build a fit model, around which the software can try to fit our data.\r\n",
        "\r\n",
        "We use RooFit for this, which includes:\r\n",
        "* Gaussian\r\n",
        "* Exponential\r\n",
        "* Chebychev\r\n",
        "* Crystal Ball\r\n",
        "* Breit-Wigner\r\n",
        "\r\n",
        "As well as several other choices.\r\n",
        "\r\n",
        "Typically exponential and Chebychev functions are used for background and Gaussian, Crystal Ball and Breit-Wigner are used for signal. We can also combine them (e.g. 1 crystal ball, 1 gaussian, 1 exponential) in various ways."
      ]
    },
    {
      "cell_type": "code",
      "metadata": {
        "id": "R_7q_HY1qhiS"
      },
      "source": [
        "#define physical measurment that we want to fit using RooRealVar\r\n",
        "# var = ROOT.RooRealVar =(\"Variable from Python\", \"Nickname\",Min, Max, Units)\r\n",
        "mass = ROOT.RooRealVar(\"M_m0\",\"Mass\",5100,6000,\"MeV/C^{2}\")\r\n",
        "\r\n",
        "#passing the rest of the variables into the model\r\n",
        "#For the RooRealVar the last three parameters are given, \"starting value\" and min/max values\r\n",
        "gaussMean = ROOT.RooRealVar(\"Mean\",\"Mean\",5100,5000,5500)\r\n",
        "gaussWidth = ROOT.RooRealVar(\"Width\",\"Width\",40,0,7000)\r\n",
        "\r\n",
        "#Now we have enough to make our Model for the signal:\r\n",
        "\r\n",
        "Gauss=ROOT.RooGaussian(\"Gaussian Signal\",\"Gauss\",mass,gaussMean,gaussWidth)\r\n",
        "Gauss_Norm= ROOT.RooRealVar(\"Gauss_Norm\",\"Signal Yield\", CutTree.GetEntries(), 0, CutTree.GetEntries()) # tree.GetEntries() returns the number of entries in the tree\r\n",
        "#We also need a background, so let's use a (simple) exponential:\r\n",
        "\r\n",
        "exponent=ROOT.RooRealVar(\"exponent\", \"C\", -0.02, -1, +1)\r\n",
        "exp_Norm= ROOT.RooRealVar(\"exp_Norm\",\"Background Yield\", CutTree.GetEntries(), 0, CutTree.GetEntries())\r\n",
        "\r\n",
        "#Define the  model for the background:\r\n",
        "\r\n",
        "Bkgnd=ROOT.RooExponential(\"Exponential Background\",\"Bkgnd\",mass,exponent)\r\n",
        "\r\n",
        "#Now we need to combine these two functions into a single PDF (probability density function)\r\n",
        "#and we need to add the normalisation factors at the end as scaling factors\r\n",
        "\r\n",
        "model=ROOT.RooAddPdf(\"Full Model\",\"model\",ROOT.RooArgList(Gauss,Bkgnd),ROOT.RooArgList(Gauss_Norm, exp_Norm) )"
      ],
      "execution_count": 26,
      "outputs": []
    },
    {
      "cell_type": "code",
      "metadata": {
        "id": "PL-qVvs-dw86",
        "colab": {
          "base_uri": "https://localhost:8080/"
        },
        "outputId": "11a04a3f-3149-4c01-b74b-6d0fa3eab23d"
      },
      "source": [
        "#Put our data set into a RooDataSet structure\r\n",
        "\r\n",
        "data_to_fit=ROOT.RooDataSet(\"Data Set\",\"data_to_fit\", CutTree, ROOT.RooArgSet(mass))\r\n",
        "\r\n",
        "#Then we can do the fitting:\r\n",
        "\r\n",
        "model.fitTo(data_to_fit)\r\n",
        "\r\n",
        "#if everything went well, you will see the outputs of RooFit below"
      ],
      "execution_count": 27,
      "outputs": [
        {
          "output_type": "execute_result",
          "data": {
            "text/plain": [
              "<ROOT.RooFitResult object at 0x(nil)>"
            ]
          },
          "metadata": {
            "tags": []
          },
          "execution_count": 27
        },
        {
          "output_type": "stream",
          "text": [
            "[#1] INFO:Eval -- RooAbsReal::attachToTree(M_m0) TTree Float_t branch M_m0 will be converted to double precision\n",
            "[#1] INFO:Eval -- RooTreeDataStore::loadValues(Data Set) Ignored 345 out of range events\n",
            "[#1] INFO:Minization -- p.d.f. provides expected number of events, including extended term in likelihood.\n",
            "[#1] INFO:Minization -- RooMinimizer::optimizeConst: activating const optimization\n",
            "[#1] INFO:Minization --  The following expressions will be evaluated in cache-and-track mode: (Gaussian Signal,Exponential Background)\n",
            " **********\n",
            " **    1 **SET PRINT           1\n",
            " **********\n",
            " **********\n",
            " **    2 **SET NOGRAD\n",
            " **********\n",
            " PARAMETER DEFINITIONS:\n",
            "    NO.   NAME         VALUE      STEP SIZE      LIMITS\n",
            "     1 Gauss_Norm   3.47200e+03  3.47200e+02    0.00000e+00  3.47200e+03\n",
            " MINUIT WARNING IN PARAM DEF\n",
            " ============== STARTING VALUE IS AT LIMIT.\n",
            " MINUIT WARNING IN PARAMETR\n",
            " ============== VARIABLE1 IS AT ITS UPPER ALLOWED LIMIT.\n",
            " MINUIT WARNING IN PARAMETR\n",
            " ============== VARIABLE1 BROUGHT BACK INSIDE LIMITS.\n",
            "     2 Mean         5.10000e+03  5.00000e+01    5.00000e+03  5.50000e+03\n",
            "     3 Width        4.00000e+01  2.00000e+01    0.00000e+00  7.00000e+03\n",
            "     4 exp_Norm     3.47200e+03  3.47200e+02    0.00000e+00  3.47200e+03\n",
            " MINUIT WARNING IN PARAM DEF\n",
            " ============== STARTING VALUE IS AT LIMIT.\n",
            " MINUIT WARNING IN PARAMETR\n",
            " ============== VARIABLE4 IS AT ITS UPPER ALLOWED LIMIT.\n",
            " MINUIT WARNING IN PARAMETR\n",
            " ============== VARIABLE4 BROUGHT BACK INSIDE LIMITS.\n",
            "     5 exponent    -2.00000e-02  2.00000e-01   -1.00000e+00  1.00000e+00\n",
            " **********\n",
            " **    3 **SET ERR         0.5\n",
            " **********\n",
            " **********\n",
            " **    4 **SET PRINT           1\n",
            " **********\n",
            " **********\n",
            " **    5 **SET STR           1\n",
            " **********\n",
            " NOW USING STRATEGY  1: TRY TO BALANCE SPEED AGAINST RELIABILITY\n",
            " **********\n",
            " **    6 **MIGRAD        2500           1\n",
            " **********\n",
            " FIRST CALL TO USER FUNCTION AT NEW START POINT, WITH IFLAG=4.\n",
            " MINUIT WARNING IN MIGrad    \n",
            " ============== VARIABLE1 IS AT ITS UPPER ALLOWED LIMIT.\n",
            " MINUIT WARNING IN MIGrad    \n",
            " ============== VARIABLE4 IS AT ITS UPPER ALLOWED LIMIT.\n",
            " START MIGRAD MINIMIZATION.  STRATEGY  1.  CONVERGENCE WHEN EDM .LT. 1.00e-03\n",
            " FCN=-2299.74 FROM MIGRAD    STATUS=INITIATE      199 CALLS         200 TOTAL\n",
            "                     EDM= unknown      STRATEGY= 1      NO ERROR MATRIX       \n",
            "  EXT PARAMETER               CURRENT GUESS       STEP         FIRST   \n",
            "  NO.   NAME      VALUE            ERROR          SIZE      DERIVATIVE \n",
            "   1  Gauss_Norm   3.25367e+02   3.47200e+02   0.00000e+00   3.12887e+03\n",
            "   2  Mean         5.30177e+03   5.00000e+01   0.00000e+00  -9.10617e+03\n",
            "   3  Width        2.02072e+01   2.00000e+01   0.00000e+00   2.32136e+03\n",
            "   4  exp_Norm     1.32011e+03   3.47200e+02   0.00000e+00  -6.06960e+02\n",
            "   5  exponent    -7.95418e-03   2.00000e-01   1.20471e-02  -2.23972e+05\n",
            "                               ERR DEF= 0.5\n",
            " MIGRAD MINIMIZATION HAS CONVERGED.\n",
            " MIGRAD WILL VERIFY CONVERGENCE AND ERROR MATRIX.\n",
            " COVARIANCE MATRIX CALCULATED SUCCESSFULLY\n",
            " FCN=-5075.71 FROM MIGRAD    STATUS=CONVERGED     337 CALLS         338 TOTAL\n",
            "                     EDM=1.58108e-05    STRATEGY= 1      ERROR MATRIX ACCURATE \n",
            "  EXT PARAMETER                                   STEP         FIRST   \n",
            "  NO.   NAME      VALUE            ERROR          SIZE      DERIVATIVE \n",
            "   1  Gauss_Norm   2.17054e+03   4.90145e+01   1.40878e-03   1.44136e-02\n",
            "   2  Mean         5.28437e+03   3.96179e-01   7.87112e-05   2.18413e+00\n",
            "   3  Width        1.66895e+01   3.33466e-01   4.66285e-05  -1.66394e+00\n",
            "   4  exp_Norm     9.56408e+02   3.44763e+01   1.06070e-03  -5.77613e-02\n",
            "   5  exponent    -2.11007e-03   1.40786e-04   6.83279e-06  -1.12210e-01\n",
            "                               ERR DEF= 0.5\n",
            " EXTERNAL ERROR MATRIX.    NDIM=  25    NPAR=  5    ERR DEF=0.5\n",
            "  2.403e+03 -2.103e-01 -2.280e+00  2.327e+02 -5.697e-04 \n",
            " -2.103e-01  1.570e-01  2.185e-03 -2.101e-01  1.649e-06 \n",
            " -2.280e+00  2.185e-03  1.112e-01 -2.278e+00  5.582e-06 \n",
            "  2.327e+02 -2.101e-01 -2.278e+00  1.189e+03 -5.692e-04 \n",
            " -5.697e-04  1.649e-06  5.582e-06 -5.692e-04  1.982e-08 \n",
            " PARAMETER  CORRELATION COEFFICIENTS  \n",
            "       NO.  GLOBAL      1      2      3      4      5\n",
            "        1  0.18765   1.000 -0.011 -0.139  0.138 -0.083\n",
            "        2  0.03426  -0.011  1.000  0.017 -0.015  0.030\n",
            "        3  0.24512  -0.139  0.017  1.000 -0.198  0.119\n",
            "        4  0.24342   0.138 -0.015 -0.198  1.000 -0.117\n",
            "        5  0.16464  -0.083  0.030  0.119 -0.117  1.000\n",
            " **********\n",
            " **    7 **SET ERR         0.5\n",
            " **********\n",
            " **********\n",
            " **    8 **SET PRINT           1\n",
            " **********\n",
            " **********\n",
            " **    9 **HESSE        2500\n",
            " **********\n",
            " COVARIANCE MATRIX CALCULATED SUCCESSFULLY\n",
            " FCN=-5075.71 FROM HESSE     STATUS=OK             31 CALLS         369 TOTAL\n",
            "                     EDM=1.58129e-05    STRATEGY= 1      ERROR MATRIX ACCURATE \n",
            "  EXT PARAMETER                                INTERNAL      INTERNAL  \n",
            "  NO.   NAME      VALUE            ERROR       STEP SIZE       VALUE   \n",
            "   1  Gauss_Norm   2.17054e+03   4.90135e+01   5.63513e-05  -3.39459e+00\n",
            "   2  Mean         5.28437e+03   3.96176e-01   1.57422e-05   3.00367e+00\n",
            "   3  Width        1.66895e+01   3.33477e-01   9.32570e-06  -1.47310e+00\n",
            "   4  exp_Norm     9.56408e+02   3.44771e+01   2.12140e-04  -4.65728e-01\n",
            "   5  exponent    -2.11007e-03   1.40783e-04   2.73311e-07  -2.11007e-03\n",
            "                               ERR DEF= 0.5\n",
            " EXTERNAL ERROR MATRIX.    NDIM=  25    NPAR=  5    ERR DEF=0.5\n",
            "  2.403e+03 -2.099e-01 -2.281e+00  2.325e+02 -5.687e-04 \n",
            " -2.099e-01  1.570e-01  2.114e-03 -2.099e-01  1.648e-06 \n",
            " -2.281e+00  2.114e-03  1.112e-01 -2.280e+00  5.579e-06 \n",
            "  2.325e+02 -2.099e-01 -2.280e+00  1.189e+03 -5.686e-04 \n",
            " -5.687e-04  1.648e-06  5.579e-06 -5.686e-04  1.982e-08 \n",
            " PARAMETER  CORRELATION COEFFICIENTS  \n",
            "       NO.  GLOBAL      1      2      3      4      5\n",
            "        1  0.18755   1.000 -0.011 -0.140  0.138 -0.082\n",
            "        2  0.03408  -0.011  1.000  0.016 -0.015  0.030\n",
            "        3  0.24525  -0.140  0.016  1.000 -0.198  0.119\n",
            "        4  0.24350   0.138 -0.015 -0.198  1.000 -0.117\n",
            "        5  0.16448  -0.082  0.030  0.119 -0.117  1.000\n",
            "[#1] INFO:Minization -- RooMinimizer::optimizeConst: deactivating const optimization\n"
          ],
          "name": "stdout"
        }
      ]
    },
    {
      "cell_type": "code",
      "metadata": {
        "id": "bUhgxlRGd4XO",
        "colab": {
          "base_uri": "https://localhost:8080/",
          "height": 539
        },
        "outputId": "00052e1f-e99c-4c86-c004-b6e3d46f800c"
      },
      "source": [
        "#Now to plot it all\r\n",
        "c1=ROOT.TCanvas(\"c1\",\"c1\")\r\n",
        "frame=mass.frame()\r\n",
        "data_to_fit.plotOn(frame)\r\n",
        "model.plotOn(frame, ROOT.RooFit.Components(\"Gauss\"),ROOT.RooFit.LineColor(8),ROOT.RooFit.LineStyle(2))\r\n",
        "model.plotOn(frame, ROOT.RooFit.Components(\"Bkgnd\"),ROOT.RooFit.LineColor(46),ROOT.RooFit.LineStyle(2))\r\n",
        "model.plotOn(frame)\r\n",
        "frame.Draw()\r\n",
        "c1.Draw()"
      ],
      "execution_count": 28,
      "outputs": [
        {
          "output_type": "stream",
          "text": [
            "[#0] ERROR:Plotting -- RooAbsPdf::plotOn(Full Model) ERROR: component selection expression 'Gauss' does not select any components of p.d.f.\n",
            "[#0] ERROR:Plotting -- RooAbsPdf::plotOn(Full Model) ERROR: component selection expression 'Bkgnd' does not select any components of p.d.f.\n"
          ],
          "name": "stdout"
        },
        {
          "output_type": "stream",
          "text": [
            "Warning in <TCanvas::Constructor>: Deleting canvas with same name: c1\n"
          ],
          "name": "stderr"
        },
        {
          "output_type": "display_data",
          "data": {
            "image/png": "[encoded data removed]",
            "text/plain": [
              "<IPython.core.display.Image object>"
            ]
          },
          "metadata": {
            "tags": []
          }
        }
      ]
    },
    {
      "cell_type": "markdown",
      "metadata": {
        "id": "ca3QDggxzOUO"
      },
      "source": [
        "**crystal ball + exponential**"
      ]
    },
    {
      "cell_type": "code",
      "metadata": {
        "id": "UFJh_3aRzZUu"
      },
      "source": [
        "#define physical measurment that we want to fit using RooRealVar\r\n",
        "# var = ROOT.RooRealVar =(\"Variable from Python\", \"Nickname\",Min, Max, Units)\r\n",
        "mass = ROOT.RooRealVar(\"M_m0\",\"Mass\",5100,6000,\"MeV/C^{2}\")\r\n",
        "\r\n",
        "#passing the rest of the variables into the model\r\n",
        "#For the RooRealVar the last three parameters are given, \"starting value\" and min/max values\r\n",
        "crystalMean = ROOT.RooRealVar(\"Mean\",\"Mean\",5100,5000,5500)\r\n",
        "crystalWidth = ROOT.RooRealVar(\"Width\",\"Width\",40,0,7000)\r\n",
        "alpha = ROOT.RooRealVar('alpha', '', 1, 0, 0.1)\r\n",
        "n = ROOT.RooRealVar('n', '', 3, 1, 100)\r\n",
        "\r\n",
        "CB=ROOT.RooCBShape(\"CrystalBall\", \"CrystalBall\", mass, crystalMean, crystalWidth, alpha, n)\r\n",
        "CB_Norm= ROOT.RooRealVar(\"CB_Norm\",\"Signal Yield\", CutTree.GetEntries(), 0, CutTree.GetEntries()) # tree.GetEntries() returns the number of entries in the tree\r\n",
        "\r\n",
        "exponent=ROOT.RooRealVar(\"exponent\", \"C\", -0.02, -1, +1)\r\n",
        "exp_Norm= ROOT.RooRealVar(\"exp_Norm\",\"Background Yield\", CutTree.GetEntries(), 0, CutTree.GetEntries())\r\n",
        "\r\n",
        "Bkgnd=ROOT.RooExponential(\"Exponential Background\",\"Bkgnd\",mass,exponent)\r\n",
        "\r\n",
        "model1=ROOT.RooAddPdf(\"Full Model\",\"model\",ROOT.RooArgList(CB,Bkgnd),ROOT.RooArgList(CB_Norm, exp_Norm) )"
      ],
      "execution_count": 29,
      "outputs": []
    },
    {
      "cell_type": "code",
      "metadata": {
        "colab": {
          "base_uri": "https://localhost:8080/"
        },
        "id": "noEPHSTj219o",
        "outputId": "177eab56-be40-409f-bf6e-0a313dcd3047"
      },
      "source": [
        "data_to_fit=ROOT.RooDataSet(\"Data Set\",\"data_to_fit\", CutTree, ROOT.RooArgSet(mass))\r\n",
        "\r\n",
        "model1.fitTo(data_to_fit)"
      ],
      "execution_count": 30,
      "outputs": [
        {
          "output_type": "execute_result",
          "data": {
            "text/plain": [
              "<ROOT.RooFitResult object at 0x(nil)>"
            ]
          },
          "metadata": {
            "tags": []
          },
          "execution_count": 30
        },
        {
          "output_type": "stream",
          "text": [
            "[#1] INFO:Eval -- RooAbsReal::attachToTree(M_m0) TTree Float_t branch M_m0 will be converted to double precision\n",
            "[#1] INFO:Eval -- RooTreeDataStore::loadValues(Data Set) Ignored 345 out of range events\n",
            "[#1] INFO:Minization -- p.d.f. provides expected number of events, including extended term in likelihood.\n",
            "[#1] INFO:Minization -- RooMinimizer::optimizeConst: activating const optimization\n",
            "[#1] INFO:Minization --  The following expressions will be evaluated in cache-and-track mode: (CrystalBall,Exponential Background)\n",
            " **********\n",
            " **    1 **SET PRINT           1\n",
            " **********\n",
            " **********\n",
            " **    2 **SET NOGRAD\n",
            " **********\n",
            " PARAMETER DEFINITIONS:\n",
            "    NO.   NAME         VALUE      STEP SIZE      LIMITS\n",
            "     1 CB_Norm      3.47200e+03  3.47200e+02    0.00000e+00  3.47200e+03\n",
            " MINUIT WARNING IN PARAM DEF\n",
            " ============== STARTING VALUE IS AT LIMIT.\n",
            " MINUIT WARNING IN PARAMETR\n",
            " ============== VARIABLE1 IS AT ITS UPPER ALLOWED LIMIT.\n",
            " MINUIT WARNING IN PARAMETR\n",
            " ============== VARIABLE1 BROUGHT BACK INSIDE LIMITS.\n",
            "     2 Mean         5.10000e+03  5.00000e+01    5.00000e+03  5.50000e+03\n",
            "     3 Width        4.00000e+01  2.00000e+01    0.00000e+00  7.00000e+03\n",
            "     4 alpha        1.00000e-01  1.00000e-02    0.00000e+00  1.00000e-01\n",
            " MINUIT WARNING IN PARAM DEF\n",
            " ============== STARTING VALUE IS AT LIMIT.\n",
            " MINUIT WARNING IN PARAMETR\n",
            " ============== VARIABLE4 IS AT ITS UPPER ALLOWED LIMIT.\n",
            " MINUIT WARNING IN PARAMETR\n",
            " ============== VARIABLE4 BROUGHT BACK INSIDE LIMITS.\n",
            "     5 exp_Norm     3.47200e+03  3.47200e+02    0.00000e+00  3.47200e+03\n",
            " MINUIT WARNING IN PARAM DEF\n",
            " ============== STARTING VALUE IS AT LIMIT.\n",
            " MINUIT WARNING IN PARAMETR\n",
            " ============== VARIABLE5 IS AT ITS UPPER ALLOWED LIMIT.\n",
            " MINUIT WARNING IN PARAMETR\n",
            " ============== VARIABLE5 BROUGHT BACK INSIDE LIMITS.\n",
            "     6 exponent    -2.00000e-02  2.00000e-01   -1.00000e+00  1.00000e+00\n",
            "     7 n            3.00000e+00  1.00000e+00    1.00000e+00  1.00000e+02\n",
            " **********\n",
            " **    3 **SET ERR         0.5\n",
            " **********\n",
            " **********\n",
            " **    4 **SET PRINT           1\n",
            " **********\n",
            " **********\n",
            " **    5 **SET STR           1\n",
            " **********\n",
            " NOW USING STRATEGY  1: TRY TO BALANCE SPEED AGAINST RELIABILITY\n",
            " **********\n",
            " **    6 **MIGRAD        3500           1\n",
            " **********\n",
            " FIRST CALL TO USER FUNCTION AT NEW START POINT, WITH IFLAG=4.\n",
            " MINUIT WARNING IN MIGrad    \n",
            " ============== VARIABLE1 IS AT ITS UPPER ALLOWED LIMIT.\n",
            " MINUIT WARNING IN MIGrad    \n",
            " ============== VARIABLE4 IS AT ITS UPPER ALLOWED LIMIT.\n",
            " MINUIT WARNING IN MIGrad    \n",
            " ============== VARIABLE5 IS AT ITS UPPER ALLOWED LIMIT.\n",
            " START MIGRAD MINIMIZATION.  STRATEGY  1.  CONVERGENCE WHEN EDM .LT. 1.00e-03\n",
            " FCN=-2497.17 FROM MIGRAD    STATUS=INITIATE      245 CALLS         246 TOTAL\n",
            "                     EDM= unknown      STRATEGY= 1      NO ERROR MATRIX       \n",
            "  EXT PARAMETER               CURRENT GUESS       STEP         FIRST   \n",
            "  NO.   NAME      VALUE            ERROR          SIZE      DERIVATIVE \n",
            "   1  CB_Norm      1.27258e+03   3.47200e+02   0.00000e+00   1.01046e+03\n",
            "   2  Mean         5.26496e+03   5.00000e+01   0.00000e+00   3.94419e+03\n",
            "   3  Width        4.00000e+01   2.00000e+01   0.00000e+00  -1.05566e+03\n",
            "   4  alpha        9.99999e-02   1.00000e-02   0.00000e+00  -1.98210e-01\n",
            "   5  exp_Norm     7.64843e+02   3.47200e+02   0.00000e+00  -6.03850e+02\n",
            "   6  exponent    -5.64438e-03   2.00000e-01   1.43569e-02  -1.63499e+05\n",
            "   7  n            3.00000e+00   1.00000e+00   0.00000e+00  -3.81478e+01\n",
            "                               ERR DEF= 0.5\n",
            " MIGRAD MINIMIZATION HAS CONVERGED.\n",
            " MIGRAD WILL VERIFY CONVERGENCE AND ERROR MATRIX.\n",
            " COVARIANCE MATRIX CALCULATED SUCCESSFULLY\n",
            " FCN=-4687.82 FROM MIGRAD    STATUS=CONVERGED     582 CALLS         583 TOTAL\n",
            "                     EDM=1.3908e-05    STRATEGY= 1      ERROR MATRIX ACCURATE \n",
            "  EXT PARAMETER                                   STEP         FIRST   \n",
            "  NO.   NAME      VALUE            ERROR          SIZE      DERIVATIVE \n",
            "   1  CB_Norm      2.14837e+03   5.01818e+01   1.35386e-03   5.96309e-03\n",
            "   2  Mean         5.30379e+03   3.62125e-01   6.94301e-05   1.11073e+00\n",
            "   3  Width        2.93282e+00   8.58401e-02   2.66286e-05   3.24416e-01\n",
            "   4  alpha        1.00000e-01   4.49148e-04   6.32770e-03** at limit **\n",
            "   5  exp_Norm     9.78682e+02   3.67256e+01   1.04094e-03   1.01524e-01\n",
            "   6  exponent    -1.96798e-03   1.45581e-04   6.58674e-06  -7.45300e+00\n",
            "   7  n            1.00000e+02   1.03258e+01   3.10770e-02** at limit **\n",
            "                               ERR DEF= 0.5\n",
            " EXTERNAL ERROR MATRIX.    NDIM=  25    NPAR=  7    ERR DEF=0.5\n",
            "  2.519e+03  1.740e+00 -8.379e-01  2.012e-09  3.706e+02 -1.130e-03 -4.627e-04 \n",
            "  1.740e+00  1.311e-01 -2.253e-03 -5.597e-10  1.738e+00 -3.542e-06 -6.828e-06 \n",
            " -8.379e-01 -2.253e-03  7.369e-03 -2.532e-10 -8.370e-01  2.835e-06 -2.686e-06 \n",
            "  2.012e-09 -5.597e-10 -2.532e-10  1.826e-13  2.010e-09 -3.837e-15  5.324e-15 \n",
            "  3.706e+02  1.738e+00 -8.370e-01  2.010e-09  1.349e+03 -1.129e-03 -4.621e-04 \n",
            " -1.130e-03 -3.542e-06  2.835e-06 -3.837e-15 -1.129e-03  2.119e-08  2.069e-09 \n",
            " -4.627e-04 -6.828e-06 -2.686e-06  5.324e-15 -4.621e-04  2.069e-09  8.150e-04 \n",
            " PARAMETER  CORRELATION COEFFICIENTS  \n",
            "       NO.  GLOBAL      1      2      3      4      5      6      7\n",
            "        1  0.27137   1.000  0.096 -0.194  0.000  0.201 -0.155 -0.000\n",
            "        2  0.15406   0.096  1.000 -0.072 -0.004  0.131 -0.067 -0.001\n",
            "        3  0.34214  -0.194 -0.072  1.000 -0.007 -0.265  0.227 -0.001\n",
            "        4  0.00825   0.000 -0.004 -0.007  1.000  0.000 -0.000  0.000\n",
            "        5  0.34860   0.201  0.131 -0.265  0.000  1.000 -0.211 -0.000\n",
            "        6  0.29087  -0.155 -0.067  0.227 -0.000 -0.211  1.000  0.000\n",
            "        7  0.00165  -0.000 -0.001 -0.001  0.000 -0.000  0.000  1.000\n",
            " **********\n",
            " **    7 **SET ERR         0.5\n",
            " **********\n",
            " **********\n",
            " **    8 **SET PRINT           1\n",
            " **********\n",
            " **********\n",
            " **    9 **HESSE        3500\n",
            " **********\n",
            " COVARIANCE MATRIX CALCULATED SUCCESSFULLY\n",
            " FCN=-4687.82 FROM HESSE     STATUS=OK             50 CALLS         633 TOTAL\n",
            "                     EDM=1.3916e-05    STRATEGY= 1      ERROR MATRIX ACCURATE \n",
            "  EXT PARAMETER                                INTERNAL      INTERNAL  \n",
            "  NO.   NAME      VALUE            ERROR       STEP SIZE       VALUE   \n",
            "   1  CB_Norm      2.14837e+03   5.01788e+01   5.41546e-05  -3.38143e+00\n",
            "   2  Mean         5.30379e+03   3.62121e-01   1.38860e-05   2.92476e+00\n",
            "   3  Width        2.93282e+00   8.58420e-02   1.06515e-06  -1.52986e+00\n",
            "   4  alpha        1.00000e-01   4.49146e-04   1.26554e-03   1.57086e+00\n",
            "                                 WARNING -   - ABOVE PARAMETER IS AT LIMIT.\n",
            "   5  exp_Norm     9.78682e+02   3.67257e+01   2.08189e-04  -4.51419e-01\n",
            "   6  exponent    -1.96798e-03   1.45569e-04   1.31735e-06  -1.96798e-03\n",
            "   7  n            1.00000e+02   1.03273e+01   6.21540e-03   1.56992e+00\n",
            "                                 WARNING -   - ABOVE PARAMETER IS AT LIMIT.\n",
            "                               ERR DEF= 0.5\n",
            " EXTERNAL ERROR MATRIX.    NDIM=  25    NPAR=  7    ERR DEF=0.5\n",
            "  2.519e+03  1.737e+00 -8.378e-01  4.454e-10  3.703e+02 -1.128e-03 -7.020e-05 \n",
            "  1.737e+00  1.311e-01 -2.269e-03 -1.206e-10  1.737e+00 -3.536e-06 -1.038e-06 \n",
            " -8.378e-01 -2.269e-03  7.369e-03 -5.469e-11 -8.377e-01  2.833e-06 -4.096e-07 \n",
            "  4.454e-10 -1.206e-10 -5.469e-11  1.826e-13  4.466e-10 -8.573e-16  5.120e-16 \n",
            "  3.703e+02  1.737e+00 -8.377e-01  4.466e-10  1.349e+03 -1.128e-03 -7.019e-05 \n",
            " -1.128e-03 -3.536e-06  2.833e-06 -8.573e-16 -1.128e-03  2.119e-08  3.141e-10 \n",
            " -7.020e-05 -1.038e-06 -4.096e-07  5.120e-16 -7.019e-05  3.141e-10  8.151e-04 \n",
            " PARAMETER  CORRELATION COEFFICIENTS  \n",
            "       NO.  GLOBAL      1      2      3      4      5      6      7\n",
            "        1  0.27117   1.000  0.096 -0.194  0.000  0.201 -0.154 -0.000\n",
            "        2  0.15399   0.096  1.000 -0.073 -0.001  0.131 -0.067 -0.000\n",
            "        3  0.34220  -0.194 -0.073  1.000 -0.001 -0.266  0.227 -0.000\n",
            "        4  0.00178   0.000 -0.001 -0.001  1.000  0.000 -0.000  0.000\n",
            "        5  0.34860   0.201  0.131 -0.266  0.000  1.000 -0.211 -0.000\n",
            "        6  0.29062  -0.154 -0.067  0.227 -0.000 -0.211  1.000  0.000\n",
            "        7  0.00025  -0.000 -0.000 -0.000  0.000 -0.000  0.000  1.000\n",
            "[#1] INFO:Minization -- RooMinimizer::optimizeConst: deactivating const optimization\n"
          ],
          "name": "stdout"
        }
      ]
    },
    {
      "cell_type": "code",
      "metadata": {
        "colab": {
          "base_uri": "https://localhost:8080/",
          "height": 539
        },
        "id": "yanAXdNN26el",
        "outputId": "5714474b-09a5-4f2b-8328-04099841d0ce"
      },
      "source": [
        "c2=ROOT.TCanvas(\"c2\",\"c2\")\r\n",
        "frame1=mass.frame()\r\n",
        "data_to_fit.plotOn(frame1)\r\n",
        "model1.plotOn(frame1, ROOT.RooFit.Components(\"CB\"),ROOT.RooFit.LineColor(8),ROOT.RooFit.LineStyle(2))\r\n",
        "model1.plotOn(frame1, ROOT.RooFit.Components(\"Bkgnd\"),ROOT.RooFit.LineColor(46),ROOT.RooFit.LineStyle(2))\r\n",
        "model1.plotOn(frame1)\r\n",
        "frame1.Draw()\r\n",
        "c2.Draw()"
      ],
      "execution_count": 31,
      "outputs": [
        {
          "output_type": "stream",
          "text": [
            "[#0] ERROR:Plotting -- RooAbsPdf::plotOn(Full Model) ERROR: component selection expression 'CB' does not select any components of p.d.f.\n",
            "[#0] ERROR:Plotting -- RooAbsPdf::plotOn(Full Model) ERROR: component selection expression 'Bkgnd' does not select any components of p.d.f.\n"
          ],
          "name": "stdout"
        },
        {
          "output_type": "stream",
          "text": [
            "Warning in <TCanvas::Constructor>: Deleting canvas with same name: c2\n"
          ],
          "name": "stderr"
        },
        {
          "output_type": "display_data",
          "data": {
            "image/png": "[encoded data removed]",
            "text/plain": [
              "<IPython.core.display.Image object>"
            ]
          },
          "metadata": {
            "tags": []
          }
        }
      ]
    },
    {
      "cell_type": "markdown",
      "metadata": {
        "id": "60b4bs1od4M_"
      },
      "source": [
        "Using this structure, you can in theory build whatever models you like!\r\n",
        "\r\n",
        "Some recommendations (but not necessary to do all):-\r\n",
        "\r\n",
        "\r\n",
        "\r\n",
        "*   Gauss+Exponential (as above)\r\n",
        "*   Crystal Ball + Exponential\r\n",
        "*   Gauss+Crystal Ball+Exponential (now you need to weigh the two signal peaks and then the total signal against total background)\r\n",
        "*   Gauss+Chebychev\r\n",
        "*   Two Crystal Balls + Exponential"
      ]
    },
    {
      "cell_type": "markdown",
      "metadata": {
        "id": "vHivSaH1dwy7"
      },
      "source": [
        "So how good was the fit, and how many events do you have?\r\n",
        "\r\n",
        "We can use the .getValV() function on our signal and background *normalisation* components, e.g. Gauss_Norm=Gauss.getValV()\r\n",
        "\r\n",
        "To find the error (on this number) we can use .getError()\r\n",
        "\r\n",
        "Neither of these measures would tell us if this was a good fit or not. Normally we use a χ2 test to do so - this is built into the image we made (so we can do frame.chiSquare() to get this data)\r\n",
        "\r\n",
        "For each model you made, print the signal and background yields (with errors) and report the χ2"
      ]
    },
    {
      "cell_type": "code",
      "metadata": {
        "colab": {
          "base_uri": "https://localhost:8080/",
          "height": 262
        },
        "id": "9vhdtVDDK6_R",
        "outputId": "c07513ef-d182-4dbf-e49d-8c876e29f9b0"
      },
      "source": [
        "# Gaussian + exponential\r\n",
        "\r\n",
        "print(\"GAUSSIAN + EXPONENTIAL---\")\r\n",
        "print(\"Normalisation components: \" + str(Gauss.getValV()))\r\n",
        "#print(\"Error: \" + Gauss.getValV().getError())\r\n",
        "print(\"Chi Square: \" + str(frame.chiSquare()))\r\n",
        "\r\n",
        "print\r\n",
        "\r\n",
        "# Crystal Ball + exponential\r\n",
        "\r\n",
        "print(\"CRYSTAL BALL + EXPONENTIAL---\")\r\n",
        "print(\"Normalisation components: \" + str(CB.getValV()))\r\n",
        "#print(\"Error: \" + CB.getValV().getError())\r\n",
        "print(\"Chi Square: \" + str(frame1.chiSquare()))\r\n",
        "\r\n",
        "\r\n",
        "# didn't manage figure out how to convert .getValV() into Roofit object instead of float. This would have been needed to calculate the error."
      ],
      "execution_count": 45,
      "outputs": [
        {
          "output_type": "stream",
          "text": [
            "GAUSSIAN + EXPONENTIAL---\n",
            "Normalisation components: 0.508343647659\n"
          ],
          "name": "stdout"
        },
        {
          "output_type": "error",
          "ename": "AttributeError",
          "evalue": "ignored",
          "traceback": [
            "\u001b[0;31m\u001b[0m",
            "\u001b[0;31mAttributeError\u001b[0mTraceback (most recent call last)",
            "\u001b[0;32m<ipython-input-45-ac45050b0af5>\u001b[0m in \u001b[0;36m<module>\u001b[0;34m()\u001b[0m\n\u001b[1;32m      3\u001b[0m \u001b[0;32mprint\u001b[0m\u001b[0;34m(\u001b[0m\u001b[0;34m\"GAUSSIAN + EXPONENTIAL---\"\u001b[0m\u001b[0;34m)\u001b[0m\u001b[0;34m\u001b[0m\u001b[0m\n\u001b[1;32m      4\u001b[0m \u001b[0;32mprint\u001b[0m\u001b[0;34m(\u001b[0m\u001b[0;34m\"Normalisation components: \"\u001b[0m \u001b[0;34m+\u001b[0m \u001b[0mstr\u001b[0m\u001b[0;34m(\u001b[0m\u001b[0mGauss\u001b[0m\u001b[0;34m.\u001b[0m\u001b[0mgetValV\u001b[0m\u001b[0;34m(\u001b[0m\u001b[0;34m)\u001b[0m\u001b[0;34m)\u001b[0m\u001b[0;34m)\u001b[0m\u001b[0;34m\u001b[0m\u001b[0m\n\u001b[0;32m----> 5\u001b[0;31m \u001b[0;32mprint\u001b[0m\u001b[0;34m(\u001b[0m\u001b[0;34m\"Error: \"\u001b[0m \u001b[0;34m+\u001b[0m \u001b[0mGauss\u001b[0m\u001b[0;34m.\u001b[0m\u001b[0mgetError\u001b[0m\u001b[0;34m(\u001b[0m\u001b[0;34m)\u001b[0m\u001b[0;34m)\u001b[0m\u001b[0;34m\u001b[0m\u001b[0m\n\u001b[0m\u001b[1;32m      6\u001b[0m \u001b[0;32mprint\u001b[0m\u001b[0;34m(\u001b[0m\u001b[0;34m\"Chi Square: \"\u001b[0m \u001b[0;34m+\u001b[0m \u001b[0mstr\u001b[0m\u001b[0;34m(\u001b[0m\u001b[0mframe\u001b[0m\u001b[0;34m.\u001b[0m\u001b[0mchiSquare\u001b[0m\u001b[0;34m(\u001b[0m\u001b[0;34m)\u001b[0m\u001b[0;34m)\u001b[0m\u001b[0;34m)\u001b[0m\u001b[0;34m\u001b[0m\u001b[0m\n\u001b[1;32m      7\u001b[0m \u001b[0;34m\u001b[0m\u001b[0m\n",
            "\u001b[0;31mAttributeError\u001b[0m: 'RooGaussian' object has no attribute 'getError'"
          ]
        }
      ]
    },
    {
      "cell_type": "markdown",
      "metadata": {
        "id": "ob2HARgWoTGe"
      },
      "source": [
        "#Counting\r\n",
        "\r\n",
        "So we have now loaded our data; we have reconstructed information about the mother B meson and we have cut away any data which looks like it might not be what we are looking for. We have then plotted histograms of the mass of the B meson and used this to fit a model, a function to describe the events there. We now have to identify which of our events belong to the B<sup>+</sup> and how many of them belong to B<sup>-</sup>.\r\n",
        "\r\n",
        "To do this, should split out data into two groups (and throw away data which doesn't comply with either decay)\r\n",
        "\r\n",
        "We will be looking for the events which are\r\n",
        "\r\n",
        "\r\n",
        "B<sup>+</sup>->K<sup>+</sup> + K<sup>+</sup>  + K<sup>-</sup>\r\n",
        "\r\n",
        "or\r\n",
        "\r\n",
        "B<sup>-</sup>->K<sup>-</sup> + K<sup>-</sup>  + K<sup>+</sup>\r\n",
        "\r\n",
        "We can look for the number of positive and negative charges in H1, H2 and H3 (using the variable ```H1_Charge``` etc.). If we have 0 or 3 positive charges, we should throw the event away and if we have 1 it should be assigned be a B<sup>-</sup>, with 2 it should be a B<sup>+</sup>"
      ]
    },
    {
      "cell_type": "markdown",
      "metadata": {
        "id": "r8VB5uN1obc4"
      },
      "source": [
        "Once we have defined if it's a B<sup>+</sup> or a B <sup>-</sup>, we should go ahead and ensure the pre-selection is applied and then plot our B mass, and fit the model to find the yield.\r\n",
        "\r\n",
        "We can then calculate the assymetry from this equation:\r\n",
        "\r\n",
        "$A=\\frac{(N^{B-}-N^{B+})}{(N^{B-}+N^{B+})}$\r\n",
        "\r\n",
        "Where N<sup>B+/- </sup> is the number of events found from the fitted yield of the signal from each data set.\r\n",
        "\r\n",
        "The uncertainty on this result is given by:\r\n",
        "\r\n",
        "$\\sigma_A=\\sqrt\\frac{1-A^2}{N^{B-}+N^{B+}}$\r\n",
        "\r\n",
        "Calculate these two values for your data and print them below:"
      ]
    },
    {
      "cell_type": "code",
      "metadata": {
        "id": "UiPNe2iuobSK",
        "colab": {
          "base_uri": "https://localhost:8080/",
          "height": 246
        },
        "outputId": "e1b4d3ff-fe8a-4ec0-8e2c-2ba2d668e61e"
      },
      "source": [
        "#Here do your calculation of the final result\r\n",
        "import math\r\n",
        "\r\n",
        "#making two new trees for positive and negative charged bosons\r\n",
        "selection_NBpos=(\"H1_Charge==1&H2_Charge==1&!H3_Charge==1||H1_Charge==1&!H2_Charge==1&H3_Charge==1||!H1_Charge==1&H2_Charge==1&H3_Charge==1\")\r\n",
        "selection_NBneg=(\"(H1_Charge==1&!H2_Charge==1&!H3_Charge==1)||(!H1_Charge==1&!H2_Charge==1&H3_Charge==1)||(!H1_Charge==1&H2_Charge==1&!H3_Charge==1)\")\r\n",
        "\r\n",
        "PosTree=CutTree.CopyTree(selection_NBpos)\r\n",
        "NegTree=CutTree.CopyTree(selection_NBneg)\r\n",
        "\r\n",
        "# counting the entries in the trees\r\n",
        "NB_pos = PosTree.GetEntries()\r\n",
        "NB_neg = NegTree.GetEntries()\r\n",
        "\r\n",
        "print(NB_pos)\r\n",
        "\r\n",
        "# calculating the asymmetry A and the uncertainty sigma(A)\r\n",
        "\r\n",
        "A = (NB_neg - NB_pos) / (NB_neg + NB_pos)\r\n",
        "sigma_A = math.sqrt((1 - A**2) / (NB_neg + NB_pos))\r\n",
        "\r\n",
        "print(\"A = \" + A + \" sigma(A) = \" + sigma_A)\r\n",
        "\r\n",
        "\r\n",
        "# I could not figure out why doesn't the code above work. \r\n",
        "# The problem is that the trees created are empty of values and that's why we get the error on the line 20,\r\n",
        "# because cannot divide with a 0"
      ],
      "execution_count": 23,
      "outputs": [
        {
          "output_type": "stream",
          "text": [
            "0\n"
          ],
          "name": "stdout"
        },
        {
          "output_type": "error",
          "ename": "ZeroDivisionError",
          "evalue": "ignored",
          "traceback": [
            "\u001b[0;31m\u001b[0m",
            "\u001b[0;31mZeroDivisionError\u001b[0mTraceback (most recent call last)",
            "\u001b[0;32m<ipython-input-23-585edd92cea9>\u001b[0m in \u001b[0;36m<module>\u001b[0;34m()\u001b[0m\n\u001b[1;32m     17\u001b[0m \u001b[0;31m# calculating the asymmetry A and the uncertainty sigma(A)\u001b[0m\u001b[0;34m\u001b[0m\u001b[0;34m\u001b[0m\u001b[0m\n\u001b[1;32m     18\u001b[0m \u001b[0;34m\u001b[0m\u001b[0m\n\u001b[0;32m---> 19\u001b[0;31m \u001b[0mA\u001b[0m \u001b[0;34m=\u001b[0m \u001b[0;34m(\u001b[0m\u001b[0mNB_neg\u001b[0m \u001b[0;34m-\u001b[0m \u001b[0mNB_pos\u001b[0m\u001b[0;34m)\u001b[0m \u001b[0;34m/\u001b[0m \u001b[0;34m(\u001b[0m\u001b[0mNB_neg\u001b[0m \u001b[0;34m+\u001b[0m \u001b[0mNB_pos\u001b[0m\u001b[0;34m)\u001b[0m\u001b[0;34m\u001b[0m\u001b[0m\n\u001b[0m\u001b[1;32m     20\u001b[0m \u001b[0msigma_A\u001b[0m \u001b[0;34m=\u001b[0m \u001b[0mmath\u001b[0m\u001b[0;34m.\u001b[0m\u001b[0msqrt\u001b[0m\u001b[0;34m(\u001b[0m\u001b[0;34m(\u001b[0m\u001b[0;36m1\u001b[0m \u001b[0;34m-\u001b[0m \u001b[0mA\u001b[0m\u001b[0;34m**\u001b[0m\u001b[0;36m2\u001b[0m\u001b[0;34m)\u001b[0m \u001b[0;34m/\u001b[0m \u001b[0;34m(\u001b[0m\u001b[0mNB_neg\u001b[0m \u001b[0;34m+\u001b[0m \u001b[0mNB_pos\u001b[0m\u001b[0;34m)\u001b[0m\u001b[0;34m)\u001b[0m\u001b[0;34m\u001b[0m\u001b[0m\n\u001b[1;32m     21\u001b[0m \u001b[0;34m\u001b[0m\u001b[0m\n",
            "\u001b[0;31mZeroDivisionError\u001b[0m: long division or modulo by zero"
          ]
        }
      ]
    },
    {
      "cell_type": "markdown",
      "metadata": {
        "id": "r5B--_33okz1"
      },
      "source": [
        "#Congratulations!\r\n",
        "\r\n",
        "You just made your first LHCb physics analysis. Does this seem like a reasonable result? Did we explain why we have an excess of mass in the Universe?"
      ]
    },
    {
      "cell_type": "markdown",
      "metadata": {
        "id": "dzybWZylomGu"
      },
      "source": [
        "## **Bonus content only below here:**"
      ]
    },
    {
      "cell_type": "markdown",
      "metadata": {
        "id": "odpbRqdoou5M"
      },
      "source": [
        "To make a further anaysis, we can look into the intermediate processes.\r\n",
        "\r\n",
        "We have so far considered only that the B meson ultimately decays into three kaons. It may be that on the way, the B meson first decays into a Kaon and another particle, and then from that particle to two Kaons.\r\n",
        "\r\n",
        "We would expect this to be one of three possible modes (for B<sup>+</sup>):\r\n",
        "\r\n",
        "$R^{++} \\rightarrow K_1^+ +K_2^+$\r\n",
        "\r\n",
        "(we don't expect this to happen because of the like charges in the Kaons)\r\n",
        "\r\n",
        "$R^0 \\rightarrow K_1^+ +K_3^-$\r\n",
        "\r\n",
        "$R^0 \\rightarrow K_2^+ +K_3^-$\r\n",
        "\r\n",
        "(Expect symmetric arrangements for B<sup>-</sup>)\r\n",
        "\r\n",
        "To analyse the intermediate states we can measure the invarient masses of the intermediate states and then plot them on what is called a Dalitz plot (this is a 2D plot with two different two body decays (from the three body decay) on each axis)\r\n",
        "\r\n",
        "![Dalitz Plot](https://slideplayer.com/slide/15960097/88/images/15/Dalitz+plot%3A+%CE%9B+c+%2B+%E2%86%92%F0%9D%91%9D+%F0%9D%90%BE+%E2%88%92+%F0%9D%9C%8B+%2B.jpg)\r\n"
      ]
    },
    {
      "cell_type": "code",
      "metadata": {
        "id": "SqJxvZSKo1cW"
      },
      "source": [
        "#Define a function to find the invarient mass of two given Kaons"
      ],
      "execution_count": null,
      "outputs": []
    },
    {
      "cell_type": "code",
      "metadata": {
        "id": "YPVqECfPo3Wc"
      },
      "source": [
        "#Then, ensuring you're still taking the data after the selection, make a Dalitz plot. This is a 2-D scatter plot (use e.g. TH2F to make the plot where we used TH1F before)\r\n",
        "#Choose an appropriate binning in your scatter "
      ],
      "execution_count": null,
      "outputs": []
    },
    {
      "cell_type": "markdown",
      "metadata": {
        "id": "qPoPLt4Uo6QB"
      },
      "source": [
        "We can further improve our plot, since two sets of particles on each axis are exactly the same (one positive Kaon, one negative Kaon). So we can plot the maximum of the two values on one axis and the minimum on the other. We can use a quick numpy check and then plot those values."
      ]
    },
    {
      "cell_type": "code",
      "metadata": {
        "id": "KJ_fe2R3o8Aq"
      },
      "source": [
        "#Make the revised Dalitz plot here for B+ mesons"
      ],
      "execution_count": null,
      "outputs": []
    },
    {
      "cell_type": "code",
      "metadata": {
        "id": "t46slV8Yo-Ed"
      },
      "source": [
        "#Make the revised Dalitz plot here for B- mesons"
      ],
      "execution_count": null,
      "outputs": []
    },
    {
      "cell_type": "code",
      "metadata": {
        "id": "RfTDh69qo9_q"
      },
      "source": [
        "#Where we have a higher density of points (or a bigger value in the bin) this is indication of an intermediate resonance\r\n",
        "#Check out the possible resonances you have found in the PDG (http://pdg.lbl.gov/2020/tables/contents_tables.html)"
      ],
      "execution_count": null,
      "outputs": []
    }
  ]
}